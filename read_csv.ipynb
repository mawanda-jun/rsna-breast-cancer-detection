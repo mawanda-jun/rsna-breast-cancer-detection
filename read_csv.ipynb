{
 "cells": [
  {
   "cell_type": "code",
   "execution_count": 13,
   "metadata": {},
   "outputs": [],
   "source": [
    "import pandas as pd\n",
    "\n",
    "df = pd.read_csv(\"/data/rsna-breast-cancer-detection/train.csv\")"
   ]
  },
  {
   "cell_type": "code",
   "execution_count": 35,
   "metadata": {},
   "outputs": [],
   "source": [
    "patient_ids = list(df.get('patient_id'))\n",
    "lateralities = list(df.get('laterality'))\n",
    "cancers = list(df.get('cancer'))\n",
    "image_ids = list(df.get('image_id'))\n"
   ]
  },
  {
   "cell_type": "code",
   "execution_count": 36,
   "metadata": {},
   "outputs": [],
   "source": [
    "dataset = {}\n",
    "for patient_id, laterality, cancer, image_id in zip(patient_ids, lateralities, cancers, image_ids):\n",
    "    key = f\"{patient_id}_{laterality}\"\n",
    "    try:\n",
    "        dataset[key].append((image_id, cancer))\n",
    "    except KeyError:\n",
    "        dataset[key] = [(image_id, cancer)]\n",
    "\n"
   ]
  },
  {
   "cell_type": "code",
   "execution_count": 37,
   "metadata": {},
   "outputs": [
    {
     "name": "stdout",
     "output_type": "stream",
     "text": [
      "2 7\n"
     ]
    }
   ],
   "source": [
    "# Calculate how many images there are for each {patient_id}_{laterality}\n",
    "\n",
    "max = 0\n",
    "min = 100\n",
    "\n",
    "for patient_id, cancers in dataset.items():\n",
    "    if 'L' in patient_id:\n",
    "        if len(cancers) > max:\n",
    "            max = len(cancers)\n",
    "        if len(cancers) < min:\n",
    "            min = len(cancers)\n",
    "print(min, max)"
   ]
  },
  {
   "cell_type": "code",
   "execution_count": 44,
   "metadata": {},
   "outputs": [
    {
     "name": "stdout",
     "output_type": "stream",
     "text": [
      "Test [1, 1, 1, 1]: all negatives? False\n",
      "Test [0, 0, 0, 0]: all positives: False\n"
     ]
    }
   ],
   "source": [
    "# Find out if, given a patient and her laterality, the mammograhies have different classes\n",
    "import numpy as np\n",
    "\n",
    "print(f\"Test {[1, 1, 1, 1]}: all negatives? {not np.array([1, 1, 1, 1]).any()}\")\n",
    "print(f\"Test {[0, 0, 0, 0]}: all positives: {np.array([0, 0, 0, 0]).all()}\")\n",
    "\n",
    "for patient_id, cancers in dataset.items():\n",
    "    image_ids, cancers_ids = list(zip(*cancers))\n",
    "    cancers_ids = np.array(cancers_ids)\n",
    "    # All ones or all zeros: it's the negative of the obvious formula.\n",
    "    if cancers_ids.any() and not cancers_ids.all():\n",
    "        print(cancers_ids)\n",
    "        break \n",
    "    \n",
    "        "
   ]
  },
  {
   "cell_type": "code",
   "execution_count": 31,
   "metadata": {},
   "outputs": [
    {
     "name": "stdout",
     "output_type": "stream",
     "text": [
      "All negatives: False\n",
      "All positives: True\n"
     ]
    }
   ],
   "source": []
  },
  {
   "cell_type": "code",
   "execution_count": null,
   "metadata": {},
   "outputs": [],
   "source": []
  }
 ],
 "metadata": {
  "language_info": {
   "name": "python"
  },
  "orig_nbformat": 4
 },
 "nbformat": 4,
 "nbformat_minor": 2
}
