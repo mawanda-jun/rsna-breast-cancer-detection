{
 "cells": [
  {
   "cell_type": "code",
   "execution_count": 1,
   "metadata": {},
   "outputs": [],
   "source": [
    "import pandas as pd\n",
    "\n",
    "\n",
    "df = pd.read_csv(\"/data/rsna-breast-cancer-detection/train.csv\")"
   ]
  },
  {
   "cell_type": "code",
   "execution_count": 2,
   "metadata": {},
   "outputs": [],
   "source": [
    "patient_ids = list(df.get('patient_id'))\n",
    "lateralities = list(df.get('laterality'))\n",
    "cancers = list(df.get('cancer'))\n",
    "image_ids = list(df.get('image_id'))\n"
   ]
  },
  {
   "cell_type": "code",
   "execution_count": 3,
   "metadata": {},
   "outputs": [],
   "source": [
    "dataset = {}\n",
    "for patient_id, laterality, cancer, image_id in zip(patient_ids, lateralities, cancers, image_ids):\n",
    "    key = f\"{patient_id}_{laterality}\"\n",
    "    try:\n",
    "        dataset[key].append([image_id, cancer])\n",
    "    except KeyError:\n",
    "        dataset[key] = [[image_id, cancer]]\n",
    "\n"
   ]
  },
  {
   "cell_type": "code",
   "execution_count": 4,
   "metadata": {},
   "outputs": [],
   "source": [
    "\n",
    "# No patient has less than 2 mammographies each\n",
    "for patient_id, values in dataset.items():\n",
    "    if len(values) < 2:\n",
    "        print(patient_id)"
   ]
  },
  {
   "cell_type": "code",
   "execution_count": 5,
   "metadata": {},
   "outputs": [
    {
     "name": "stdout",
     "output_type": "stream",
     "text": [
      "2 7\n"
     ]
    }
   ],
   "source": [
    "# Calculate how many images there are for each {patient_id}_{laterality}\n",
    "\n",
    "max = 0\n",
    "min = 100\n",
    "\n",
    "for patient_id, cancers in dataset.items():\n",
    "    if 'L' in patient_id:\n",
    "        if len(cancers) > max:\n",
    "            max = len(cancers)\n",
    "        if len(cancers) < min:\n",
    "            min = len(cancers)\n",
    "print(min, max)"
   ]
  },
  {
   "cell_type": "code",
   "execution_count": 6,
   "metadata": {},
   "outputs": [
    {
     "name": "stdout",
     "output_type": "stream",
     "text": [
      "Test [1, 1, 1, 1]: all negatives? False\n",
      "Test [0, 0, 0, 0]: all positives: False\n",
      "Every patient_id has the same class among all mammographies!\n"
     ]
    }
   ],
   "source": [
    "# Find out if, given a patient and her laterality, the mammograhies have different classes\n",
    "import numpy as np\n",
    "\n",
    "print(f\"Test {[1, 1, 1, 1]}: all negatives? {not np.array([1, 1, 1, 1]).any()}\")\n",
    "print(f\"Test {[0, 0, 0, 0]}: all positives: {np.array([0, 0, 0, 0]).all()}\")\n",
    "\n",
    "found = False\n",
    "for patient_id, cancers in dataset.items():\n",
    "    image_ids, cancers_ids = list(zip(*list(cancers)))\n",
    "    cancers_ids = np.array(cancers_ids)\n",
    "    # All ones or all zeros: it's the negative of the obvious formula.\n",
    "    if cancers_ids.any() and not cancers_ids.all():\n",
    "        print(cancers_ids)\n",
    "        found = True\n",
    "        break \n",
    "if not found:\n",
    "    print(\"Every patient_id has the same class among all mammographies!\")\n",
    "        "
   ]
  },
  {
   "cell_type": "code",
   "execution_count": 7,
   "metadata": {},
   "outputs": [
    {
     "name": "stdout",
     "output_type": "stream",
     "text": [
      "Positive patient_laterality: 492\n",
      "Negative patient_laterality: 23334\n",
      "2 5 2.3360655737704916\n"
     ]
    }
   ],
   "source": [
    "# Count positive and negative labels\n",
    "import random\n",
    "random.seed(42)\n",
    "positives = []\n",
    "negatives = []\n",
    "for patient_id, cancers in dataset.items():\n",
    "    if np.array(list(zip(*cancers))[1]).any():\n",
    "        positives.append(patient_id)\n",
    "    else:\n",
    "        negatives.append(patient_id)\n",
    "\n",
    "print(f\"Positive patient_laterality: {len(positives)}\")\n",
    "print(f\"Negative patient_laterality: {len(negatives)}\")\n",
    "\n",
    "# Calculate how many mammographies there are among the positives \n",
    "max = 0\n",
    "min = 100\n",
    "total = 0\n",
    "sum = 0\n",
    "for patient_id, cancers in dataset.items():\n",
    "    if patient_id in positives:\n",
    "        if 'R' in patient_id:\n",
    "            if len(cancers) > max:\n",
    "                max = len(cancers)\n",
    "            if len(cancers) < min:\n",
    "                min = len(cancers)\n",
    "            sum += 1\n",
    "            total += len(cancers)\n",
    "print(min, max, total / sum)\n",
    "\n"
   ]
  },
  {
   "cell_type": "code",
   "execution_count": 8,
   "metadata": {},
   "outputs": [
    {
     "name": "stdout",
     "output_type": "stream",
     "text": [
      "Positive patient_laterality: 492\n",
      "Negative patient_laterality: 23334\n",
      "Positive validation count: 98\n",
      "Negative validation count: 4667\n"
     ]
    }
   ],
   "source": [
    "# Create val dataset based on same statistical distribution.\n",
    "# Count positive and negative labels\n",
    "import random\n",
    "random.seed(42)\n",
    "positives = []\n",
    "negatives = []\n",
    "for patient_id, cancers in dataset.items():\n",
    "    if np.array(list(zip(*cancers))[1]).any():\n",
    "        positives.append(patient_id)\n",
    "    else:\n",
    "        negatives.append(patient_id)\n",
    "\n",
    "print(f\"Positive patient_laterality: {len(positives)}\")\n",
    "print(f\"Negative patient_laterality: {len(negatives)}\")\n",
    "# Take 20% of data for validation\n",
    "\n",
    "val_ratio = 0.2\n",
    "total = len(positives) + len(negatives)\n",
    "pos_ratio = len(positives) / total\n",
    "neg_ratio = len(negatives) / total\n",
    "val_len = round(total * val_ratio)\n",
    "\n",
    "pos_val_len = round(val_len * pos_ratio)\n",
    "neg_val_len = round(val_len * neg_ratio)\n",
    "\n",
    "print(f\"Positive validation count: {pos_val_len}\")\n",
    "print(f\"Negative validation count: {neg_val_len}\")\n",
    "\n",
    "random.shuffle(positives)\n",
    "random.shuffle(negatives)\n",
    "\n",
    "# Take train and val indices\n",
    "val_ids = positives[:pos_val_len]\n",
    "val_ids += negatives[:neg_val_len]\n",
    "\n",
    "train_ids = positives[pos_val_len:]\n",
    "train_ids += negatives[neg_val_len:]\n",
    "\n",
    "import yaml\n",
    "with open('/projects/rsna-breast-cancer-detection/src/configs/train_ids.yaml', 'w') as writer:\n",
    "    yaml.safe_dump({id: list(zip(*dataset[id])) for id in train_ids}, writer)\n",
    "\n",
    "with open(\"/projects/rsna-breast-cancer-detection/src/configs/val_ids.yaml\", 'w') as writer:\n",
    "    yaml.safe_dump({id: list(zip(*dataset[id])) for id in val_ids}, writer)\n"
   ]
  },
  {
   "cell_type": "code",
   "execution_count": 9,
   "metadata": {},
   "outputs": [],
   "source": [
    "import yaml\n",
    "# Create valid yaml augmentation file\n",
    "augs = [\n",
    "    {\"RandomBrightnessContrast\": {'hue': 0.1, 'saturation': 0.3}}, \n",
    "    {\"RandomBrightnessContrast\": {'hue': 0.4, 'saturation': 0.5}}]\n",
    "with open('deleteme.yaml', 'w') as writer:\n",
    "    yaml.safe_dump({'aug': augs}, writer)"
   ]
  },
  {
   "cell_type": "code",
   "execution_count": 4,
   "metadata": {},
   "outputs": [
    {
     "data": {
      "image/png": "[encoded data removed]",
      "text/plain": [
       "<Figure size 640x480 with 1 Axes>"
      ]
     },
     "metadata": {},
     "output_type": "display_data"
    }
   ],
   "source": [
    "# Plot LR vs Loss\n",
    "lrs = []\n",
    "losses = []\n",
    "with open(\"/projects/rsna-breast-cancer-detection/lrfinder.txt\", 'r') as reader:\n",
    "    for line in reader.readlines()[:25]:\n",
    "        loss, lr = line.replace(\"\\n\", \"\").split(\" \")\n",
    "        losses.append(float(loss))\n",
    "        lrs.append(float(lr))\n",
    "\n",
    "import matplotlib.pyplot as plt\n",
    "plt.plot(lrs, losses)\n",
    "plt.ticklabel_format(style='sci', axis='x')\n",
    "plt.xscale('log')\n",
    "plt.show()\n"
   ]
  },
  {
   "cell_type": "code",
   "execution_count": 26,
   "metadata": {},
   "outputs": [],
   "source": [
    "from pathlib import Path\n",
    "path = Path(\"/data/rsna-breast-cancer-detection/ddsm_train_images\")\n",
    "out_path = Path(\"/data/rsna-breast-cancer-detection/ddsm_aggregated\")\n",
    "\n",
    "unique_ids = {}\n",
    "for img_path in path.glob(\"**/*.dcm\"):\n",
    "    patient_id = \"_\".join(str(img_path.parent.name).split(\"_\")[:2])\n",
    "    try:\n",
    "        unique_ids[patient_id].append(img_path)\n",
    "    except KeyError:\n",
    "        unique_ids[patient_id] = [img_path]\n"
   ]
  },
  {
   "cell_type": "code",
   "execution_count": 27,
   "metadata": {},
   "outputs": [],
   "source": [
    "import shutil\n",
    "for unique_id, paths in unique_ids.items():\n",
    "    output_dir = out_path / Path(unique_id)\n",
    "    output_dir.mkdir(parents=True, exist_ok=True)\n",
    "    for i, path in enumerate(paths):\n",
    "        output_path = output_dir / Path(f\"{i}.dcm\")\n",
    "        shutil.copy(path, output_path)"
   ]
  },
  {
   "cell_type": "code",
   "execution_count": 6,
   "metadata": {},
   "outputs": [],
   "source": [
    "# DDSM YAML CREATION\n",
    "from pathlib import Path\n",
    "import yaml\n",
    "import random\n",
    "\n",
    "path = Path(\"/data/rsna-breast-cancer-detection/ddsm_aggregated_png_novoi\")\n",
    "patient_with_ids = {}\n",
    "for img_path in path.glob(\"**/*.png\"):\n",
    "    img_name = int(str(img_path.name).split(\".\")[0])\n",
    "    patient_id = str(img_path.parent.name)\n",
    "    try:\n",
    "        patient_with_ids[patient_id][0].append(img_name)\n",
    "        patient_with_ids[patient_id][1].append(1)\n",
    "    except KeyError:\n",
    "        patient_with_ids[patient_id] = [[], []]\n",
    "        patient_with_ids[patient_id][0] = [img_name]\n",
    "        patient_with_ids[patient_id][1] = [1]\n",
    "\n",
    "with open(\"ddsm.yaml\", 'w') as writer:\n",
    "    yaml.safe_dump(patient_with_ids, writer)\n"
   ]
  },
  {
   "cell_type": "code",
   "execution_count": null,
   "metadata": {},
   "outputs": [],
   "source": []
  }
 ],
 "metadata": {
  "kernelspec": {
   "display_name": "Python 3",
   "language": "python",
   "name": "python3"
  },
  "language_info": {
   "codemirror_mode": {
    "name": "ipython",
    "version": 3
   },
   "file_extension": ".py",
   "mimetype": "text/x-python",
   "name": "python",
   "nbconvert_exporter": "python",
   "pygments_lexer": "ipython3",
   "version": "3.8.10 (default, Nov 14 2022, 12:59:47) \n[GCC 9.4.0]"
  },
  "orig_nbformat": 4,
  "vscode": {
   "interpreter": {
    "hash": "767d51c1340bd893661ea55ea3124f6de3c7a262a8b4abca0554b478b1e2ff90"
   }
  }
 },
 "nbformat": 4,
 "nbformat_minor": 2
}
